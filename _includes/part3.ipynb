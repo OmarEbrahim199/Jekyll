{
 "cells": [
  {
   "attachments": {},
   "cell_type": "markdown",
   "id": "939806f6",
   "metadata": {},
   "source": []
  },
  {
   "attachments": {},
   "cell_type": "markdown",
   "id": "5d5a0f0c",
   "metadata": {},
   "source": [
    "The dataset used for this analysis is the San Francisco Crime Data from May 2017 to May 2018. The goal of this data story is to analyze the patterns of larceny and theft incidents in the city and identify any trends or changes over time."
   ]
  },
  {
   "attachments": {},
   "cell_type": "markdown",
   "id": "c78c22f0",
   "metadata": {},
   "source": [
    "The first visualization is a time-series bar chart showing the monthly counts of larceny and theft incidents. The chart reveals a clear pattern of seasonality,\n",
    " with higher counts during the summer months and lower counts during the winter months.\n",
    " The highest counts of incidents occurred in August and September, while the lowest counts occurred in December and January.\n",
    "  Overall, the chart shows that larceny and theft incidents were more common during the warmer months of the year."
   ]
  },
  {
   "cell_type": "code",
   "execution_count": 32,
   "id": "aed7fbba",
   "metadata": {},
   "outputs": [],
   "source": [
    "# Import necessary libraries\n",
    "import pandas as pd\n",
    "from bokeh.plotting import figure, output_file, show\n",
    "from bokeh.models import ColumnDataSource, HoverTool, Select\n",
    "from bokeh.layouts import column\n",
    "from bokeh.io import curdoc"
   ]
  },
  {
   "cell_type": "code",
   "execution_count": 33,
   "id": "c051e4f9",
   "metadata": {},
   "outputs": [],
   "source": [
    "# Load data\n",
    "df = pd.read_csv('../weeksex/Police_Department_Incident_Reports__Historical_2003_to_May_2018.csv', parse_dates=['Date', 'Time'],low_memory=False)\n",
    "\n",
    "#data = pd.read_csv('../weeksex/Police_Department_Incident_Reports__Historical_2003_to_May_2018.csv')\n"
   ]
  },
  {
   "cell_type": "code",
   "execution_count": 34,
   "id": "90a787c4",
   "metadata": {},
   "outputs": [],
   "source": [
    "\n",
    "#df['Date'] = pd.to_datetime(df['Date'])\n",
    "# slice the dataframe to get data between 2010 and 2017\n",
    "#df = df[(df['Date'].dt.year >= 2017) & (df['Date'].dt.year <= 2018)]\n",
    "\n",
    "# Filter data to May 2017 to May 2018 and larceny and theft incidents\n",
    "df = df[(df['Date'] >= '2017-05-01') & (df['Date'] <= '2018-05-31') & ((df['Category'] == 'LARCENY/THEFT'))]\n",
    "#focuscrimes = set(['LARCENY/THEFT'])\n",
    "#df = df[df['Category']]"
   ]
  },
  {
   "cell_type": "code",
   "execution_count": 42,
   "id": "c4bf2a22",
   "metadata": {},
   "outputs": [
    {
     "name": "stdout",
     "output_type": "stream",
     "text": [
      "Date\n",
      "2017-09-30    2\n",
      "2017-10-31    2\n",
      "Freq: M, Name: Category, dtype: int64\n"
     ]
    }
   ],
   "source": [
    "\n",
    "\n",
    "# Group data by month and count incidents\n",
    "monthly_counts = df.groupby(pd.Grouper(key='Date', freq='M'))['Category'].count()\n",
    "print(monthly_counts)\n",
    "\n",
    "\n"
   ]
  },
  {
   "cell_type": "code",
   "execution_count": 36,
   "id": "30bb285f",
   "metadata": {},
   "outputs": [],
   "source": [
    "# Create a ColumnDataSource for the plot\n",
    "source = ColumnDataSource(data=dict(x=monthly_counts.index.values, y=monthly_counts.values))\n",
    "\n",
    "# Create the figure\n",
    "p = figure(title='Monthly Larceny/Theft Incidents in San Francisco (May 2017 - May 2018)',\n",
    "           x_axis_label='Month', y_axis_label='Incidents', x_axis_type='datetime',\n",
    "           plot_width=800, plot_height=400)\n",
    "\n",
    "# Add a line to the plot\n",
    "line = p.line(x='x', y='y', source=source, line_width=2, line_color='blue')\n",
    "\n",
    "# Add a hover tool to show incident count on hover\n",
    "hover = HoverTool(tooltips=[('Incidents', '@y')], mode='vline')\n",
    "p.add_tools(hover)"
   ]
  },
  {
   "cell_type": "code",
   "execution_count": 37,
   "id": "7bd12f0b",
   "metadata": {},
   "outputs": [],
   "source": [
    "# Add a select widget to allow users to switch between line and bar charts\n",
    "select = Select(title='Select Chart Type:', options=['Line', 'Bar'], value='Line')\n",
    "def update_chart(attrname, old, new):\n",
    "    if new == 'Line':\n",
    "        line.visible = True\n",
    "        bar.visible = False\n",
    "    else:\n",
    "        line.visible = False\n",
    "        bar.visible = True\n",
    "select.on_change('value', update_chart)\n",
    "\n",
    "# Create a bar chart\n",
    "bar_source = ColumnDataSource(data=dict(x=monthly_counts.index.values, top=monthly_counts.values))\n",
    "bar = figure(title='Monthly Larceny/Theft Incidents in San Francisco (May 2017 - May 2018)',\n",
    "             x_axis_label='Month', y_axis_label='Incidents', x_axis_type='datetime',\n",
    "             plot_width=800, plot_height=400, visible=False)\n",
    "#bar.vbar(x='x', top='top', width=pd.DateOffset(months=0.9), source=bar_source, color='blue')"
   ]
  },
  {
   "cell_type": "code",
   "execution_count": 38,
   "id": "ce9b9d4e",
   "metadata": {},
   "outputs": [
    {
     "name": "stderr",
     "output_type": "stream",
     "text": [
      "WARNING:bokeh.core.validation.check:W-1000 (MISSING_RENDERERS): Plot has no renderers: Figure(id='2340', ...)\n",
      "WARNING:bokeh.embed.util:\n",
      "You are generating standalone HTML/JS output, but trying to use real Python\n",
      "callbacks (i.e. with on_change or on_event). This combination cannot work.\n",
      "\n",
      "Only JavaScript callbacks may be used with standalone output. For more\n",
      "information on JavaScript callbacks with Bokeh, see:\n",
      "\n",
      "    https://docs.bokeh.org/en/latest/docs/user_guide/interaction/callbacks.html\n",
      "\n",
      "Alternatively, to use real Python callbacks, a Bokeh server application may\n",
      "be used. For more information on building and running Bokeh applications, see:\n",
      "\n",
      "    https://docs.bokeh.org/en/latest/docs/user_guide/server.html\n",
      "\n"
     ]
    }
   ],
   "source": [
    "\n",
    "\n",
    "# Combine line and bar charts into a single layout\n",
    "layout = column(select, column(p, bar))\n",
    "\n",
    "# Show the plot\n",
    "curdoc().add_root(layout)\n",
    "show(layout)\n"
   ]
  },
  {
   "cell_type": "markdown",
   "id": "134bcd73",
   "metadata": {},
   "source": []
  },
  {
   "cell_type": "code",
   "execution_count": 43,
   "id": "52639b4e",
   "metadata": {},
   "outputs": [],
   "source": [
    "import pandas as pd \n",
    "df = pd.read_csv(\"../weeksex/Police_Department_Incident_Reports__Historical_2003_to_May_2018.csv\",low_memory=False)\n",
    "#df = pd.read_csv(\"../../datasat.csv\",)\n",
    "df['Date'] = pd.to_datetime(df['Date'])\n",
    "# slice the dataframe to get data between 2010 and 2017\n",
    "df = df[(df['Date'].dt.year >= 2010) & (df['Date'].dt.year <= 2017)]\n",
    "focuscrimes = set(['LARCENY/THEFT'])\n",
    "df = df[df['Category'].isin(focuscrimes)]\n"
   ]
  },
  {
   "cell_type": "code",
   "execution_count": 55,
   "id": "2d196009",
   "metadata": {},
   "outputs": [],
   "source": [
    "df['HourOfDay'] = df['Time'].str.strip().str[0:2]\n"
   ]
  },
  {
   "cell_type": "code",
   "execution_count": 56,
   "id": "5b3bc942",
   "metadata": {},
   "outputs": [
    {
     "name": "stdout",
     "output_type": "stream",
     "text": [
      "         Category HourOfDay  hourly_percentage\n",
      "0   LARCENY/THEFT        00           0.044453\n",
      "1   LARCENY/THEFT        01           0.026327\n",
      "2   LARCENY/THEFT        02           0.015877\n",
      "3   LARCENY/THEFT        03           0.009655\n",
      "4   LARCENY/THEFT        04           0.006342\n",
      "5   LARCENY/THEFT        05           0.006357\n",
      "6   LARCENY/THEFT        06           0.009820\n",
      "7   LARCENY/THEFT        07           0.015787\n",
      "8   LARCENY/THEFT        08           0.027422\n",
      "9   LARCENY/THEFT        09           0.032024\n",
      "10  LARCENY/THEFT        10           0.037572\n",
      "11  LARCENY/THEFT        11           0.043119\n",
      "12  LARCENY/THEFT        12           0.056433\n",
      "13  LARCENY/THEFT        13           0.050406\n",
      "14  LARCENY/THEFT        14           0.051650\n",
      "15  LARCENY/THEFT        15           0.058592\n",
      "16  LARCENY/THEFT        16           0.061080\n",
      "17  LARCENY/THEFT        17           0.068457\n",
      "18  LARCENY/THEFT        18           0.080841\n",
      "19  LARCENY/THEFT        19           0.074889\n",
      "20  LARCENY/THEFT        20           0.064394\n",
      "21  LARCENY/THEFT        21           0.053779\n",
      "22  LARCENY/THEFT        22           0.055428\n",
      "23  LARCENY/THEFT        23           0.049296\n"
     ]
    }
   ],
   "source": [
    "# group the dataframe by \"Category\" and \"HourOfDay\", then calculate the count for each group\n",
    "crime_hourly_counts = df.groupby(['Category', 'HourOfDay']).size().reset_index(name='count')\n",
    "\n",
    "# calculate the total count for each crime category\n",
    "crime_category_counts = df.groupby(['Category']).size().reset_index(name='total_count')\n",
    "\n",
    "# merge the two dataframes to get the total count for each row\n",
    "crime_hourly_counts = pd.merge(crime_hourly_counts, crime_category_counts, on='Category')\n",
    "\n",
    "# calculate the hourly percentage of each crime type\n",
    "crime_hourly_counts['hourly_percentage'] = crime_hourly_counts['count'] / crime_hourly_counts['total_count']\n",
    "\n",
    "\n",
    "columns = ['Category', 'HourOfDay', 'hourly_percentage']\n",
    "focusData =  pd.DataFrame(crime_hourly_counts, columns=columns)\n",
    "\n",
    "print(focusData)"
   ]
  },
  {
   "cell_type": "code",
   "execution_count": 57,
   "id": "9ef1f988",
   "metadata": {},
   "outputs": [
    {
     "name": "stdout",
     "output_type": "stream",
     "text": [
      "Category   LARCENY/THEFT\n",
      "HourOfDay               \n",
      "00              0.044453\n",
      "01              0.026327\n",
      "02              0.015877\n",
      "03              0.009655\n",
      "04              0.006342\n",
      "05              0.006357\n",
      "06              0.009820\n",
      "07              0.015787\n",
      "08              0.027422\n",
      "09              0.032024\n",
      "10              0.037572\n",
      "11              0.043119\n",
      "12              0.056433\n",
      "13              0.050406\n",
      "14              0.051650\n",
      "15              0.058592\n",
      "16              0.061080\n",
      "17              0.068457\n",
      "18              0.080841\n",
      "19              0.074889\n",
      "20              0.064394\n",
      "21              0.053779\n",
      "22              0.055428\n",
      "23              0.049296\n"
     ]
    }
   ],
   "source": [
    "# Pivot the dataframe\n",
    "pivoted_focusData = focusData.pivot_table(index='HourOfDay', columns='Category', values='hourly_percentage')\n",
    "\n",
    "# Display the pivoted dataframe\n",
    "print(pivoted_focusData)\n"
   ]
  },
  {
   "cell_type": "code",
   "execution_count": 58,
   "id": "327729ba",
   "metadata": {},
   "outputs": [
    {
     "data": {
      "text/html": [
       "<div class=\"bk-root\">\n",
       "        <a href=\"https://bokeh.org\" target=\"_blank\" class=\"bk-logo bk-logo-small bk-logo-notebook\"></a>\n",
       "        <span id=\"3290\">Loading BokehJS ...</span>\n",
       "    </div>\n"
      ]
     },
     "metadata": {},
     "output_type": "display_data"
    },
    {
     "data": {
      "application/javascript": "(function(root) {\n  function now() {\n    return new Date();\n  }\n\n  const force = true;\n\n  if (typeof root._bokeh_onload_callbacks === \"undefined\" || force === true) {\n    root._bokeh_onload_callbacks = [];\n    root._bokeh_is_loading = undefined;\n  }\n\nconst JS_MIME_TYPE = 'application/javascript';\n  const HTML_MIME_TYPE = 'text/html';\n  const EXEC_MIME_TYPE = 'application/vnd.bokehjs_exec.v0+json';\n  const CLASS_NAME = 'output_bokeh rendered_html';\n\n  /**\n   * Render data to the DOM node\n   */\n  function render(props, node) {\n    const script = document.createElement(\"script\");\n    node.appendChild(script);\n  }\n\n  /**\n   * Handle when an output is cleared or removed\n   */\n  function handleClearOutput(event, handle) {\n    const cell = handle.cell;\n\n    const id = cell.output_area._bokeh_element_id;\n    const server_id = cell.output_area._bokeh_server_id;\n    // Clean up Bokeh references\n    if (id != null && id in Bokeh.index) {\n      Bokeh.index[id].model.document.clear();\n      delete Bokeh.index[id];\n    }\n\n    if (server_id !== undefined) {\n      // Clean up Bokeh references\n      const cmd_clean = \"from bokeh.io.state import curstate; print(curstate().uuid_to_server['\" + server_id + \"'].get_sessions()[0].document.roots[0]._id)\";\n      cell.notebook.kernel.execute(cmd_clean, {\n        iopub: {\n          output: function(msg) {\n            const id = msg.content.text.trim();\n            if (id in Bokeh.index) {\n              Bokeh.index[id].model.document.clear();\n              delete Bokeh.index[id];\n            }\n          }\n        }\n      });\n      // Destroy server and session\n      const cmd_destroy = \"import bokeh.io.notebook as ion; ion.destroy_server('\" + server_id + \"')\";\n      cell.notebook.kernel.execute(cmd_destroy);\n    }\n  }\n\n  /**\n   * Handle when a new output is added\n   */\n  function handleAddOutput(event, handle) {\n    const output_area = handle.output_area;\n    const output = handle.output;\n\n    // limit handleAddOutput to display_data with EXEC_MIME_TYPE content only\n    if ((output.output_type != \"display_data\") || (!Object.prototype.hasOwnProperty.call(output.data, EXEC_MIME_TYPE))) {\n      return\n    }\n\n    const toinsert = output_area.element.find(\".\" + CLASS_NAME.split(' ')[0]);\n\n    if (output.metadata[EXEC_MIME_TYPE][\"id\"] !== undefined) {\n      toinsert[toinsert.length - 1].firstChild.textContent = output.data[JS_MIME_TYPE];\n      // store reference to embed id on output_area\n      output_area._bokeh_element_id = output.metadata[EXEC_MIME_TYPE][\"id\"];\n    }\n    if (output.metadata[EXEC_MIME_TYPE][\"server_id\"] !== undefined) {\n      const bk_div = document.createElement(\"div\");\n      bk_div.innerHTML = output.data[HTML_MIME_TYPE];\n      const script_attrs = bk_div.children[0].attributes;\n      for (let i = 0; i < script_attrs.length; i++) {\n        toinsert[toinsert.length - 1].firstChild.setAttribute(script_attrs[i].name, script_attrs[i].value);\n        toinsert[toinsert.length - 1].firstChild.textContent = bk_div.children[0].textContent\n      }\n      // store reference to server id on output_area\n      output_area._bokeh_server_id = output.metadata[EXEC_MIME_TYPE][\"server_id\"];\n    }\n  }\n\n  function register_renderer(events, OutputArea) {\n\n    function append_mime(data, metadata, element) {\n      // create a DOM node to render to\n      const toinsert = this.create_output_subarea(\n        metadata,\n        CLASS_NAME,\n        EXEC_MIME_TYPE\n      );\n      this.keyboard_manager.register_events(toinsert);\n      // Render to node\n      const props = {data: data, metadata: metadata[EXEC_MIME_TYPE]};\n      render(props, toinsert[toinsert.length - 1]);\n      element.append(toinsert);\n      return toinsert\n    }\n\n    /* Handle when an output is cleared or removed */\n    events.on('clear_output.CodeCell', handleClearOutput);\n    events.on('delete.Cell', handleClearOutput);\n\n    /* Handle when a new output is added */\n    events.on('output_added.OutputArea', handleAddOutput);\n\n    /**\n     * Register the mime type and append_mime function with output_area\n     */\n    OutputArea.prototype.register_mime_type(EXEC_MIME_TYPE, append_mime, {\n      /* Is output safe? */\n      safe: true,\n      /* Index of renderer in `output_area.display_order` */\n      index: 0\n    });\n  }\n\n  // register the mime type if in Jupyter Notebook environment and previously unregistered\n  if (root.Jupyter !== undefined) {\n    const events = require('base/js/events');\n    const OutputArea = require('notebook/js/outputarea').OutputArea;\n\n    if (OutputArea.prototype.mime_types().indexOf(EXEC_MIME_TYPE) == -1) {\n      register_renderer(events, OutputArea);\n    }\n  }\n  if (typeof (root._bokeh_timeout) === \"undefined\" || force === true) {\n    root._bokeh_timeout = Date.now() + 5000;\n    root._bokeh_failed_load = false;\n  }\n\n  const NB_LOAD_WARNING = {'data': {'text/html':\n     \"<div style='background-color: #fdd'>\\n\"+\n     \"<p>\\n\"+\n     \"BokehJS does not appear to have successfully loaded. If loading BokehJS from CDN, this \\n\"+\n     \"may be due to a slow or bad network connection. Possible fixes:\\n\"+\n     \"</p>\\n\"+\n     \"<ul>\\n\"+\n     \"<li>re-rerun `output_notebook()` to attempt to load from CDN again, or</li>\\n\"+\n     \"<li>use INLINE resources instead, as so:</li>\\n\"+\n     \"</ul>\\n\"+\n     \"<code>\\n\"+\n     \"from bokeh.resources import INLINE\\n\"+\n     \"output_notebook(resources=INLINE)\\n\"+\n     \"</code>\\n\"+\n     \"</div>\"}};\n\n  function display_loaded() {\n    const el = document.getElementById(\"3290\");\n    if (el != null) {\n      el.textContent = \"BokehJS is loading...\";\n    }\n    if (root.Bokeh !== undefined) {\n      if (el != null) {\n        el.textContent = \"BokehJS \" + root.Bokeh.version + \" successfully loaded.\";\n      }\n    } else if (Date.now() < root._bokeh_timeout) {\n      setTimeout(display_loaded, 100)\n    }\n  }\n\n  function run_callbacks() {\n    try {\n      root._bokeh_onload_callbacks.forEach(function(callback) {\n        if (callback != null)\n          callback();\n      });\n    } finally {\n      delete root._bokeh_onload_callbacks\n    }\n    console.debug(\"Bokeh: all callbacks have finished\");\n  }\n\n  function load_libs(css_urls, js_urls, callback) {\n    if (css_urls == null) css_urls = [];\n    if (js_urls == null) js_urls = [];\n\n    root._bokeh_onload_callbacks.push(callback);\n    if (root._bokeh_is_loading > 0) {\n      console.debug(\"Bokeh: BokehJS is being loaded, scheduling callback at\", now());\n      return null;\n    }\n    if (js_urls == null || js_urls.length === 0) {\n      run_callbacks();\n      return null;\n    }\n    console.debug(\"Bokeh: BokehJS not loaded, scheduling load and callback at\", now());\n    root._bokeh_is_loading = css_urls.length + js_urls.length;\n\n    function on_load() {\n      root._bokeh_is_loading--;\n      if (root._bokeh_is_loading === 0) {\n        console.debug(\"Bokeh: all BokehJS libraries/stylesheets loaded\");\n        run_callbacks()\n      }\n    }\n\n    function on_error(url) {\n      console.error(\"failed to load \" + url);\n    }\n\n    for (let i = 0; i < css_urls.length; i++) {\n      const url = css_urls[i];\n      const element = document.createElement(\"link\");\n      element.onload = on_load;\n      element.onerror = on_error.bind(null, url);\n      element.rel = \"stylesheet\";\n      element.type = \"text/css\";\n      element.href = url;\n      console.debug(\"Bokeh: injecting link tag for BokehJS stylesheet: \", url);\n      document.body.appendChild(element);\n    }\n\n    for (let i = 0; i < js_urls.length; i++) {\n      const url = js_urls[i];\n      const element = document.createElement('script');\n      element.onload = on_load;\n      element.onerror = on_error.bind(null, url);\n      element.async = false;\n      element.src = url;\n      console.debug(\"Bokeh: injecting script tag for BokehJS library: \", url);\n      document.head.appendChild(element);\n    }\n  };\n\n  function inject_raw_css(css) {\n    const element = document.createElement(\"style\");\n    element.appendChild(document.createTextNode(css));\n    document.body.appendChild(element);\n  }\n\n  const js_urls = [\"https://cdn.bokeh.org/bokeh/release/bokeh-2.4.3.min.js\", \"https://cdn.bokeh.org/bokeh/release/bokeh-gl-2.4.3.min.js\", \"https://cdn.bokeh.org/bokeh/release/bokeh-widgets-2.4.3.min.js\", \"https://cdn.bokeh.org/bokeh/release/bokeh-tables-2.4.3.min.js\", \"https://cdn.bokeh.org/bokeh/release/bokeh-mathjax-2.4.3.min.js\"];\n  const css_urls = [];\n\n  const inline_js = [    function(Bokeh) {\n      Bokeh.set_log_level(\"info\");\n    },\nfunction(Bokeh) {\n    }\n  ];\n\n  function run_inline_js() {\n    if (root.Bokeh !== undefined || force === true) {\n          for (let i = 0; i < inline_js.length; i++) {\n      inline_js[i].call(root, root.Bokeh);\n    }\nif (force === true) {\n        display_loaded();\n      }} else if (Date.now() < root._bokeh_timeout) {\n      setTimeout(run_inline_js, 100);\n    } else if (!root._bokeh_failed_load) {\n      console.log(\"Bokeh: BokehJS failed to load within specified timeout.\");\n      root._bokeh_failed_load = true;\n    } else if (force !== true) {\n      const cell = $(document.getElementById(\"3290\")).parents('.cell').data().cell;\n      cell.output_area.append_execute_result(NB_LOAD_WARNING)\n    }\n  }\n\n  if (root._bokeh_is_loading === 0) {\n    console.debug(\"Bokeh: BokehJS loaded, going straight to plotting\");\n    run_inline_js();\n  } else {\n    load_libs(css_urls, js_urls, function() {\n      console.debug(\"Bokeh: BokehJS plotting callback run at\", now());\n      run_inline_js();\n    });\n  }\n}(window));",
      "application/vnd.bokehjs_load.v0+json": ""
     },
     "metadata": {},
     "output_type": "display_data"
    }
   ],
   "source": [
    "from bokeh.models import ColumnDataSource,Legend\n",
    "from bokeh.io import output_notebook, show\n",
    "from bokeh.palettes import Category10\n",
    "import seaborn as sns\n",
    "\n",
    "source = ColumnDataSource(data=pivoted_focusData)\n",
    "## it is a standard way to convert your df to bokeh\n",
    "output_notebook()"
   ]
  },
  {
   "cell_type": "code",
   "execution_count": 59,
   "id": "bc5dee27",
   "metadata": {},
   "outputs": [],
   "source": [
    "# Define a figure with title and axis labels\n",
    "p = figure(x_range=source.data['HourOfDay'], title=\"Hourly Percentage by Category\",x_axis_label='Hour of the Day',width =1200)\n",
    "colo = sns.color_palette('viridis', len(source.data['HourOfDay'])).as_hex()"
   ]
  },
  {
   "cell_type": "code",
   "execution_count": 60,
   "id": "d9fbd84f",
   "metadata": {},
   "outputs": [],
   "source": [
    "bar ={} # to store vbars\n",
    "items=[]\n",
    "\n",
    "\n",
    "### here we will do a for loop:\n",
    "for indx,category  in enumerate(pivoted_focusData.columns):\n",
    "    bar[category] =p.vbar(x='HourOfDay', \n",
    "    top=category ,\n",
    "    source=source,\n",
    "    muted=True, \n",
    "    muted_alpha=0.05,\n",
    "    fill_alpha=1.9,\n",
    "    color=colo[indx],\n",
    "    width=0.7)\n",
    "    items.append((category, [bar[category]]))\n"
   ]
  },
  {
   "cell_type": "code",
   "execution_count": 61,
   "id": "027ae8a0",
   "metadata": {},
   "outputs": [
    {
     "data": {
      "text/html": [
       "\n",
       "  <div class=\"bk-root\" id=\"8f557944-fae4-457d-94a5-47c6b064899d\" data-root-id=\"3291\"></div>\n"
      ]
     },
     "metadata": {},
     "output_type": "display_data"
    },
    {
     "data": {
      "application/javascript": "(function(root) {\n  function embed_document(root) {\n  const docs_json = {\"ed6c5212-3e58-4274-97fe-250ede4b2636\":{\"defs\":[],\"roots\":{\"references\":[{\"attributes\":{\"below\":[{\"id\":\"3302\"}],\"center\":[{\"id\":\"3304\"},{\"id\":\"3308\"}],\"left\":[{\"id\":\"3305\"},{\"id\":\"3329\"}],\"renderers\":[{\"id\":\"3327\"}],\"title\":{\"id\":\"3292\"},\"toolbar\":{\"id\":\"3316\"},\"width\":1200,\"x_range\":{\"id\":\"3294\"},\"x_scale\":{\"id\":\"3298\"},\"y_range\":{\"id\":\"3296\"},\"y_scale\":{\"id\":\"3300\"}},\"id\":\"3291\",\"subtype\":\"Figure\",\"type\":\"Plot\"},{\"attributes\":{\"axis\":{\"id\":\"3302\"},\"coordinates\":null,\"group\":null,\"ticker\":null},\"id\":\"3304\",\"type\":\"Grid\"},{\"attributes\":{\"axis_label\":\"Hour of the Day\",\"coordinates\":null,\"formatter\":{\"id\":\"3470\"},\"group\":null,\"major_label_policy\":{\"id\":\"3471\"},\"ticker\":{\"id\":\"3303\"}},\"id\":\"3302\",\"type\":\"CategoricalAxis\"},{\"attributes\":{},\"id\":\"3314\",\"type\":\"HelpTool\"},{\"attributes\":{},\"id\":\"3467\",\"type\":\"BasicTickFormatter\"},{\"attributes\":{\"coordinates\":null,\"formatter\":{\"id\":\"3467\"},\"group\":null,\"major_label_policy\":{\"id\":\"3468\"},\"ticker\":{\"id\":\"3306\"}},\"id\":\"3305\",\"type\":\"LinearAxis\"},{\"attributes\":{\"overlay\":{\"id\":\"3315\"}},\"id\":\"3311\",\"type\":\"BoxZoomTool\"},{\"attributes\":{},\"id\":\"3472\",\"type\":\"UnionRenderers\"},{\"attributes\":{},\"id\":\"3313\",\"type\":\"ResetTool\"},{\"attributes\":{},\"id\":\"3298\",\"type\":\"CategoricalScale\"},{\"attributes\":{},\"id\":\"3470\",\"type\":\"CategoricalTickFormatter\"},{\"attributes\":{\"bottom_units\":\"screen\",\"coordinates\":null,\"fill_alpha\":0.5,\"fill_color\":\"lightgrey\",\"group\":null,\"left_units\":\"screen\",\"level\":\"overlay\",\"line_alpha\":1.0,\"line_color\":\"black\",\"line_dash\":[4,4],\"line_width\":2,\"right_units\":\"screen\",\"syncable\":false,\"top_units\":\"screen\"},\"id\":\"3315\",\"type\":\"BoxAnnotation\"},{\"attributes\":{},\"id\":\"3303\",\"type\":\"CategoricalTicker\"},{\"attributes\":{},\"id\":\"3312\",\"type\":\"SaveTool\"},{\"attributes\":{},\"id\":\"3473\",\"type\":\"Selection\"},{\"attributes\":{},\"id\":\"3296\",\"type\":\"DataRange1d\"},{\"attributes\":{},\"id\":\"3306\",\"type\":\"BasicTicker\"},{\"attributes\":{\"coordinates\":null,\"data_source\":{\"id\":\"3289\"},\"glyph\":{\"id\":\"3324\"},\"group\":null,\"hover_glyph\":null,\"muted\":true,\"muted_glyph\":{\"id\":\"3326\"},\"nonselection_glyph\":{\"id\":\"3325\"},\"view\":{\"id\":\"3328\"}},\"id\":\"3327\",\"type\":\"GlyphRenderer\"},{\"attributes\":{\"source\":{\"id\":\"3289\"}},\"id\":\"3328\",\"type\":\"CDSView\"},{\"attributes\":{\"data\":{\"HourOfDay\":[\"00\",\"01\",\"02\",\"03\",\"04\",\"05\",\"06\",\"07\",\"08\",\"09\",\"10\",\"11\",\"12\",\"13\",\"14\",\"15\",\"16\",\"17\",\"18\",\"19\",\"20\",\"21\",\"22\",\"23\"],\"LARCENY/THEFT\":{\"__ndarray__\":\"iaOw7pnCpj+cbZaVhvWaPzSOkogjQpA/C43cuyrGgz9ajj1O/fl5P04cs+K1CXo/yhlj7KEchD9GOeKpjiqQP0PM9ypvFJw/mQ2b1oJloD/z8teomzyjP03YFHu0E6Y/JWUN2rzkrD/7R/q1wc6pP8DoPbrccao/T2BRSrf/rT/ZodhS7UWvP/8di35ihrE/Wd6/bvuxtD8gDBuL5yuzP6gJBCwcfLA/bYBkBemIqz9J4LT+EmGsP+nmulhWPak/\",\"dtype\":\"float64\",\"order\":\"little\",\"shape\":[24]}},\"selected\":{\"id\":\"3473\"},\"selection_policy\":{\"id\":\"3472\"}},\"id\":\"3289\",\"type\":\"ColumnDataSource\"},{\"attributes\":{},\"id\":\"3471\",\"type\":\"AllLabels\"},{\"attributes\":{},\"id\":\"3309\",\"type\":\"PanTool\"},{\"attributes\":{\"tools\":[{\"id\":\"3309\"},{\"id\":\"3310\"},{\"id\":\"3311\"},{\"id\":\"3312\"},{\"id\":\"3313\"},{\"id\":\"3314\"}]},\"id\":\"3316\",\"type\":\"Toolbar\"},{\"attributes\":{\"click_policy\":\"mute\",\"coordinates\":null,\"group\":null,\"items\":[{\"id\":\"3330\"}]},\"id\":\"3329\",\"type\":\"Legend\"},{\"attributes\":{},\"id\":\"3310\",\"type\":\"WheelZoomTool\"},{\"attributes\":{\"fill_alpha\":{\"value\":0.1},\"fill_color\":{\"value\":\"#471063\"},\"hatch_alpha\":{\"value\":0.1},\"hatch_color\":{\"value\":\"#471063\"},\"line_alpha\":{\"value\":0.1},\"line_color\":{\"value\":\"#471063\"},\"top\":{\"field\":\"LARCENY/THEFT\"},\"width\":{\"value\":0.7},\"x\":{\"field\":\"HourOfDay\"}},\"id\":\"3325\",\"type\":\"VBar\"},{\"attributes\":{\"factors\":[\"00\",\"01\",\"02\",\"03\",\"04\",\"05\",\"06\",\"07\",\"08\",\"09\",\"10\",\"11\",\"12\",\"13\",\"14\",\"15\",\"16\",\"17\",\"18\",\"19\",\"20\",\"21\",\"22\",\"23\"]},\"id\":\"3294\",\"type\":\"FactorRange\"},{\"attributes\":{\"axis\":{\"id\":\"3305\"},\"coordinates\":null,\"dimension\":1,\"group\":null,\"ticker\":null},\"id\":\"3308\",\"type\":\"Grid\"},{\"attributes\":{},\"id\":\"3300\",\"type\":\"LinearScale\"},{\"attributes\":{},\"id\":\"3468\",\"type\":\"AllLabels\"},{\"attributes\":{\"label\":{\"value\":\"LARCENY/THEFT\"},\"renderers\":[{\"id\":\"3327\"}]},\"id\":\"3330\",\"type\":\"LegendItem\"},{\"attributes\":{\"fill_alpha\":{\"value\":1.9},\"fill_color\":{\"value\":\"#471063\"},\"hatch_color\":{\"value\":\"#471063\"},\"line_color\":{\"value\":\"#471063\"},\"top\":{\"field\":\"LARCENY/THEFT\"},\"width\":{\"value\":0.7},\"x\":{\"field\":\"HourOfDay\"}},\"id\":\"3324\",\"type\":\"VBar\"},{\"attributes\":{\"fill_alpha\":{\"value\":0.05},\"fill_color\":{\"value\":\"#471063\"},\"hatch_alpha\":{\"value\":0.05},\"hatch_color\":{\"value\":\"#471063\"},\"line_alpha\":{\"value\":0.05},\"line_color\":{\"value\":\"#471063\"},\"top\":{\"field\":\"LARCENY/THEFT\"},\"width\":{\"value\":0.7},\"x\":{\"field\":\"HourOfDay\"}},\"id\":\"3326\",\"type\":\"VBar\"},{\"attributes\":{\"coordinates\":null,\"group\":null,\"text\":\"Hourly Percentage by Category\"},\"id\":\"3292\",\"type\":\"Title\"}],\"root_ids\":[\"3291\"]},\"title\":\"Bokeh Application\",\"version\":\"2.4.3\"}};\n  const render_items = [{\"docid\":\"ed6c5212-3e58-4274-97fe-250ede4b2636\",\"root_ids\":[\"3291\"],\"roots\":{\"3291\":\"8f557944-fae4-457d-94a5-47c6b064899d\"}}];\n  root.Bokeh.embed.embed_items_notebook(docs_json, render_items);\n  }\n  if (root.Bokeh !== undefined) {\n    embed_document(root);\n  } else {\n    let attempts = 0;\n    const timer = setInterval(function(root) {\n      if (root.Bokeh !== undefined) {\n        clearInterval(timer);\n        embed_document(root);\n      } else {\n        attempts++;\n        if (attempts > 100) {\n          clearInterval(timer);\n          console.log(\"Bokeh: ERROR: Unable to run BokehJS code because BokehJS library is missing\");\n        }\n      }\n    }, 10, root)\n  }\n})(window);",
      "application/vnd.bokehjs_exec.v0+json": ""
     },
     "metadata": {
      "application/vnd.bokehjs_exec.v0+json": {
       "id": "3291"
      }
     },
     "output_type": "display_data"
    }
   ],
   "source": [
    "legend = Legend(items=items)\n",
    "p.add_layout(legend, 'left') \n",
    "p.legend.click_policy=\"mute\" \n",
    "#test\n",
    "### assigns the click policy (you can try to use ''hide'\n",
    "show(p)\n",
    "\n",
    "\n",
    "#displays your plot"
   ]
  },
  {
   "attachments": {},
   "cell_type": "markdown",
   "id": "c085bb18",
   "metadata": {},
   "source": [
    "\n",
    "In conclusion, the analysis of the San Francisco Crime Data from May 2017 to May 2018 reveals some interesting patterns and trends in larceny and theft incidents. The data suggests that these types of incidents are more common during the summer months, particularly in the downtown and tourist areas of the city. The interactive scatter plot also shows some interesting patterns in the day of the week and time of day of incidents, which may be useful for crime prevention efforts.\n"
   ]
  }
 ],
 "metadata": {
  "kernelspec": {
   "display_name": "Python 3 (ipykernel)",
   "language": "python",
   "name": "python3"
  },
  "language_info": {
   "codemirror_mode": {
    "name": "ipython",
    "version": 3
   },
   "file_extension": ".py",
   "mimetype": "text/x-python",
   "name": "python",
   "nbconvert_exporter": "python",
   "pygments_lexer": "ipython3",
   "version": "3.9.12"
  }
 },
 "nbformat": 4,
 "nbformat_minor": 5
}
