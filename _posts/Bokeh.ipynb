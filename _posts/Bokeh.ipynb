{
 "cells": [
  {
   "attachments": {},
   "cell_type": "markdown",
   "metadata": {},
   "source": [
    "Bokeh is a Python library that allows for the creation of interactive visualizations in web browsers. It can be used to create a variety of different types of visualizations, such as line charts, scatter plots, bar charts, and more.\n",
    "\n",
    "To get started with Bokeh, you first need to install the library. You can do this using pip, by running the following command in your terminal:\n",
    "\n"
   ]
  },
  {
   "cell_type": "code",
   "execution_count": 1,
   "metadata": {},
   "outputs": [
    {
     "name": "stdout",
     "output_type": "stream",
     "text": [
      "Requirement already satisfied: bokeh in c:\\users\\omare\\anaconda3\\lib\\site-packages (2.4.3)\n",
      "Requirement already satisfied: Jinja2>=2.9 in c:\\users\\omare\\anaconda3\\lib\\site-packages (from bokeh) (2.11.3)\n",
      "Requirement already satisfied: tornado>=5.1 in c:\\users\\omare\\anaconda3\\lib\\site-packages (from bokeh) (6.1)\n",
      "Requirement already satisfied: pillow>=7.1.0 in c:\\users\\omare\\anaconda3\\lib\\site-packages (from bokeh) (9.2.0)\n",
      "Requirement already satisfied: PyYAML>=3.10 in c:\\users\\omare\\anaconda3\\lib\\site-packages (from bokeh) (6.0)\n",
      "Requirement already satisfied: numpy>=1.11.3 in c:\\users\\omare\\anaconda3\\lib\\site-packages (from bokeh) (1.23.3)\n",
      "Requirement already satisfied: packaging>=16.8 in c:\\users\\omare\\anaconda3\\lib\\site-packages (from bokeh) (21.3)\n",
      "Requirement already satisfied: typing-extensions>=3.10.0 in c:\\users\\omare\\anaconda3\\lib\\site-packages (from bokeh) (4.3.0)\n",
      "Requirement already satisfied: MarkupSafe>=0.23 in c:\\users\\omare\\anaconda3\\lib\\site-packages (from Jinja2>=2.9->bokeh) (2.0.1)\n",
      "Requirement already satisfied: pyparsing!=3.0.5,>=2.0.2 in c:\\users\\omare\\anaconda3\\lib\\site-packages (from packaging>=16.8->bokeh) (3.0.9)\n",
      "Note: you may need to restart the kernel to use updated packages.\n"
     ]
    }
   ],
   "source": [
    "pip install bokeh\n"
   ]
  },
  {
   "attachments": {},
   "cell_type": "markdown",
   "metadata": {},
   "source": [
    "Once you have Bokeh installed, you can start creating visualizations. The basic steps for creating a Bokeh visualization are:\n",
    "\n",
    "Import the necessary modules from Bokeh\n",
    "Create a data source (this can be a Pandas DataFrame, a NumPy array, or a Python dictionary)\n",
    "Create a figure object\n",
    "Add glyphs (visual elements) to the figure object, using the data source as input\n",
    "Specify any desired styling options for the glyphs\n",
    "Add any desired interactive features, such as hover tools or widgets\n",
    "Show or save the visualization\n",
    "Here is an example of creating a simple line chart with Bokeh:"
   ]
  },
  {
   "cell_type": "code",
   "execution_count": null,
   "metadata": {},
   "outputs": [],
   "source": [
    "import numpy as np\n",
    "from bokeh.plotting import figure, show\n",
    "\n",
    "# create some data\n",
    "x = np.linspace(0, 10, 100)\n",
    "y = np.sin(x)\n",
    "\n",
    "# create a figure object\n",
    "p = figure(title=\"Sine Wave\")\n",
    "\n",
    "# add a line glyph to the figure object\n",
    "p.line(x, y)\n",
    "\n",
    "# show the visualization\n",
    "show(p)\n"
   ]
  },
  {
   "attachments": {},
   "cell_type": "markdown",
   "metadata": {},
   "source": [
    "his will create a line chart of the sine wave, with the x-axis ranging from 0 to 10.\n",
    "\n",
    "Bokeh provides many other options for customizing visualizations and adding interactivity, such as adding tooltips or creating widgets that can update the data in real time. The Bokeh documentation provides many examples and tutorials to help you get started with creating interactive visualizations."
   ]
  }
 ],
 "metadata": {
  "kernelspec": {
   "display_name": "base",
   "language": "python",
   "name": "python3"
  },
  "language_info": {
   "codemirror_mode": {
    "name": "ipython",
    "version": 3
   },
   "file_extension": ".py",
   "mimetype": "text/x-python",
   "name": "python",
   "nbconvert_exporter": "python",
   "pygments_lexer": "ipython3",
   "version": "3.9.12"
  },
  "orig_nbformat": 4
 },
 "nbformat": 4,
 "nbformat_minor": 2
}
